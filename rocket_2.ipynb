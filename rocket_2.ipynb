{
 "metadata": {
  "name": "",
  "signature": "sha256:a79c82b5204245ae32807862347faf81d787df6a8cb6b61121ba32f7c33e1362"
 },
 "nbformat": 3,
 "nbformat_minor": 0,
 "worksheets": [
  {
   "cells": [
    {
     "cell_type": "code",
     "collapsed": false,
     "input": [
      "from math import sin, cos, log, ceil\n",
      "import numpy\n",
      "from matplotlib import pyplot\n",
      "%matplotlib inline\n",
      "from matplotlib import rcParams"
     ],
     "language": "python",
     "metadata": {},
     "outputs": [],
     "prompt_number": 63
    },
    {
     "cell_type": "code",
     "collapsed": false,
     "input": [
      "# model parameters:\n",
      "g = 9.81      # gravity in m s^{-2}\n",
      "ve = 325.0   # the exhaust speed in m s^{-1}   \n",
      "C_D = 0.15  # drag coefficient --- or D/L if C_L=1\n",
      "mp0 = 100.0    # kg at time t=0 is the initial weight of the rocket propellant\n",
      "time = 5       # work time of engine in s\n",
      "ms = 50.0      # weight of the rocket shell in kg\n",
      "r = 0.5      # radius of cross sectional area of the rocket, in m\n",
      "A = numpy.pi*r**2 # maximum cross sectional area of the rocket in m^2\n",
      "pho = 1.091  #  average air density in kg m^{-3}\n",
      "mpr = 20     #  the time-varying burn rate in kg s^{-1}\n",
      "\n",
      "### set initial conditions ###\n",
      "h0 = 0.0    # the altitude of the rocket\n",
      "v0 = 0.0    # initial velocity of rocket\n",
      "mp = mp0    # weight of the rocket propellant"
     ],
     "language": "python",
     "metadata": {},
     "outputs": [],
     "prompt_number": 64
    },
    {
     "cell_type": "code",
     "collapsed": false,
     "input": [
      "T = 100                          # final time\n",
      "dt = 0.1                           # time increment\n",
      "N = int(T/dt) + 1                  # number of time-steps\n",
      "t = numpy.linspace(0.0, T, N)      # time discretization\n",
      "CurT =0\n",
      "endtime=0\n",
      "\n",
      "# initialize the array containing the solution for each time-step\n",
      "v = numpy.empty(N)\n",
      "h=numpy.empty(N)\n",
      "ta=numpy.empty(N)\n",
      "v[0]=v0\n",
      "h[0]=h0\n",
      "# time loop - Euler method\n",
      "for n in range(N-1):\n",
      "    CurT+=dt\n",
      "    if CurT<time:\n",
      "        mp=mp0-mpr*(CurT)\n",
      "        endtime=CurT+dt\n",
      "    else:\n",
      "        mp=0\n",
      "        mpr=0\n",
      "    #print mp\n",
      "    v[n+1] = v[n]+dt*(-g+mpr*ve/(ms+mp)-0.5*pho*v[n]*numpy.abs(v[n])*A*C_D/(ms+mp))\n",
      "    h[n+1] =h[n]+dt*v[n]\n",
      "    ta[n+1]=CurT\n",
      "    #xx[n+1]=(-0.5*pho*v[n]*numpy.abs(v[n])*A*C_D))\n",
      "    #print -g\n",
      "    #print -0.5*pho*v[n]*numpy.abs(v[n])*A*C_D\n",
      "    #print mpr*ve/(ms+mp)\n",
      "    #print n\n",
      "    #print (-g+mpr*ve/(ms+mp)-0.5*pho*v[n]*numpy.abs(v[n])*A*C_D)\n"
     ],
     "language": "python",
     "metadata": {},
     "outputs": [],
     "prompt_number": 65
    },
    {
     "cell_type": "code",
     "collapsed": false,
     "input": [
      "idx_negative = numpy.where(ta==endtime)[0]\n",
      "print endtime\n",
      "#print idx_negative\n",
      "tt = ta\n",
      "idx_negative=idx_negative\n",
      "print h[idx_negative]\n",
      "print h[idx_negative-1]\n",
      "print v[idx_negative]\n",
      "#print tt[idx_negative]\n",
      "\n",
      "# impact\n",
      "\n",
      "idx_impact = numpy.where(h<=0)[0]\n",
      "k=0\n",
      "for i in h:\n",
      "    k+=1\n",
      "    if i<0:\n",
      "        break\n",
      "print k-1\n",
      "print t[k-1]\n",
      "#print h[:500]\n",
      "print v[374]\n",
      "print v[375]\n"
     ],
     "language": "python",
     "metadata": {},
     "outputs": [
      {
       "output_type": "stream",
       "stream": "stdout",
       "text": [
        "5.1\n",
        "[ 556.64394111]\n",
        "[ 533.05422219]\n",
        "[ 227.76379532]\n",
        "374\n",
        "37.4\n",
        "-86.0823847331\n",
        "-86.1109516542\n"
       ]
      }
     ],
     "prompt_number": 66
    },
    {
     "cell_type": "code",
     "collapsed": false,
     "input": [
      "# max altitude\n",
      "maxa=0\n",
      "l=0\n",
      "for i in h:\n",
      "    if maxa<i:\n",
      "        maxa=i\n",
      "        l+=1\n",
      "print maxa\n",
      "print l\n",
      "print t[l]"
     ],
     "language": "python",
     "metadata": {},
     "outputs": [
      {
       "output_type": "stream",
       "stream": "stdout",
       "text": [
        "1354.63079286\n",
        "157\n",
        "15.7\n"
       ]
      }
     ],
     "prompt_number": 67
    },
    {
     "cell_type": "code",
     "collapsed": false,
     "input": [
      "# visualization of the path\n",
      "pyplot.figure(figsize=(8,6))\n",
      "pyplot.subplot(121)\n",
      "pyplot.grid(True)\n",
      "pyplot.xlabel(r'x', fontsize=18)\n",
      "pyplot.ylabel(r'y', fontsize=18)\n",
      "pyplot.title('Velocity, flight time = %.2f' % T, fontsize=18)\n",
      "pyplot.plot(t,v, 'b-', lw=1);\n",
      "#pyplot.xlim(45,50)\n",
      "#pyplot.ylim(1.8,2.5);\n",
      "\n",
      "pyplot.figure(figsize=(8,6))\n",
      "pyplot.subplot(122)\n",
      "pyplot.grid(True)\n",
      "pyplot.xlabel(r'x', fontsize=18)\n",
      "pyplot.ylabel(r'y', fontsize=18)\n",
      "pyplot.title('Hight, flight time = %.2f' % T, fontsize=18)\n",
      "pyplot.plot(t,h, 'b-', lw=1);"
     ],
     "language": "python",
     "metadata": {},
     "outputs": [
      {
       "metadata": {},
       "output_type": "display_data",
       "png": "[encoded data removed]",
       "text": [
        "<matplotlib.figure.Figure at 0xb9f3668>"
       ]
      },
      {
       "metadata": {},
       "output_type": "display_data",
       "png": "[encoded data removed]",
       "text": [
        "<matplotlib.figure.Figure at 0xc735208>"
       ]
      }
     ],
     "prompt_number": 68
    },
    {
     "cell_type": "code",
     "collapsed": false,
     "input": [],
     "language": "python",
     "metadata": {},
     "outputs": [],
     "prompt_number": 68
    }
   ],
   "metadata": {}
  }
 ]
}