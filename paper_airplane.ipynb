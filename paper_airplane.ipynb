{
 "metadata": {
  "name": "",
  "signature": "sha256:abe756b7310b08be31e096dfe14fd559d77ce27a63c1993ee11a9dcbef2ef056"
 },
 "nbformat": 3,
 "nbformat_minor": 0,
 "worksheets": [
  {
   "cells": [
    {
     "cell_type": "code",
     "collapsed": false,
     "input": [
      "from math import sin, cos, log, ceil\n",
      "import numpy\n",
      "from matplotlib import pyplot\n",
      "%matplotlib inline\n",
      "from matplotlib import rcParams\n",
      "rcParams['font.family'] = 'serif'\n",
      "rcParams['font.size'] = 16"
     ],
     "language": "python",
     "metadata": {},
     "outputs": [],
     "prompt_number": 1
    },
    {
     "cell_type": "code",
     "collapsed": false,
     "input": [
      "# model parameters:\n",
      "g = 9.8      # gravity in m s^{-2}\n",
      "v_t = 30.0   # trim velocity in m s^{-1}   \n",
      "C_D = 1/5.  # drag coefficient --- or D/L if C_L=1\n",
      "C_L = 1.0    # for convenience, use C_L = 1\n",
      "\n",
      "### set initial conditions ###\n",
      "v0 = v_t     # start at the trim velocity (or add a delta)\n",
      "theta0 = 0.0 # initial angle of trajectory\n",
      "x0 = 0.0     # horizotal position is arbitrary\n",
      "y0 = 2.0  # initial altitude\n",
      "v0A=numpy.linspace(1,100,101)\n",
      "theta0A=numpy.linspace(-numpy.pi/2,numpy.pi/2,101)"
     ],
     "language": "python",
     "metadata": {},
     "outputs": [],
     "prompt_number": 2
    },
    {
     "cell_type": "code",
     "collapsed": false,
     "input": [
      "def f(u):\n",
      "    \"\"\"Returns the right-hand side of the phugoid system of equations.\n",
      "    \n",
      "    Parameters\n",
      "    ----------\n",
      "    u : array of float\n",
      "        array containing the solution at time n.\n",
      "        \n",
      "    Returns\n",
      "    -------\n",
      "    dudt : array of float\n",
      "        array containing the RHS given u.\n",
      "    \"\"\"\n",
      "    \n",
      "    v = u[0]\n",
      "    theta = u[1]\n",
      "    x = u[2]\n",
      "    y = u[3]\n",
      "    return numpy.array([-g*sin(theta) - C_D/C_L*g/v_t**2*v**2,\n",
      "                      -g*cos(theta)/v + g/v_t**2*v,\n",
      "                      v*cos(theta),\n",
      "                      v*sin(theta)])"
     ],
     "language": "python",
     "metadata": {},
     "outputs": [],
     "prompt_number": 3
    },
    {
     "cell_type": "code",
     "collapsed": false,
     "input": [
      "def euler_step(u, f, dt):\n",
      "    \"\"\"Returns the solution at the next time-step using Euler's method.\n",
      "    \n",
      "    Parameters\n",
      "    ----------\n",
      "    u : array of float\n",
      "        solution at the previous time-step.\n",
      "    f : function\n",
      "        function to compute the right hand-side of the system of equation.\n",
      "    dt : float\n",
      "        time-increment.\n",
      "    \n",
      "    Returns\n",
      "    -------\n",
      "    u_n_plus_1 : array of float\n",
      "        approximate solution at the next time step.\n",
      "    \"\"\"\n",
      "    \n",
      "    return u + dt * f(u)"
     ],
     "language": "python",
     "metadata": {},
     "outputs": [],
     "prompt_number": 4
    },
    {
     "cell_type": "code",
     "collapsed": false,
     "input": [
      "T = 100000.0                          # final time\n",
      "dt = 0.1                           # time increment\n",
      "N = int(T/dt) + 1                  # number of time-steps\n",
      "t = numpy.linspace(0.0, T, N)      # time discretization\n",
      "\n",
      "# initialize the array containing the solution for each time-step\n",
      "u = numpy.empty((N, 4))\n",
      "#u[0] = numpy.array([v0, theta0, x0, y0])# fill 1st element with initial values\n",
      "\n",
      "# time loop - Euler method\n",
      "xmax=x0\n",
      "ymax=y0\n",
      "vmax=v0\n",
      "thetamax=theta0\n",
      "\n",
      "for i in v0A:\n",
      "    for j in theta0A:\n",
      "        u = numpy.empty((N, 4))\n",
      "        for n in range(N-1): \n",
      "            u[0] = numpy.array([i, j, x0, y0])\n",
      "            u[n+1] = euler_step(u[n], f, dt)\n",
      "            x = u[:,2]\n",
      "            y = u[:,3]\n",
      "            idx_negative_euler = numpy.where(y<0.0)[0]\n",
      "            if len(idx_negative_euler)>0:\n",
      "                if xmax<(x[:idx_negative_euler][-1]):\n",
      "                    xmax=x[:idx_negative_euler][-1]\n",
      "                    ymax=y[:idx_negative_euler][-1]\n",
      "                    vmax=i\n",
      "                    thetamax=j\n",
      "                    xx=x[:idx_negative_euler]\n",
      "                    yy=y[:idx_negative_euler]\n",
      "                u=u[:idx_negative_euler]\n",
      "                break\n",
      "\n",
      "print ('Distance traveled = %.2f' % xmax)\n",
      "print ymax\n",
      "print ('Initial velocity = %.2f' % vmax)\n",
      "print ('Initial theta = %.2f' % thetamax)\n",
      "#for n in range(N-1):   \n",
      "#    u[n+1] = euler_step(u[n], f, dt)"
     ],
     "language": "python",
     "metadata": {},
     "outputs": [
      {
       "output_type": "stream",
       "stream": "stdout",
       "text": [
        "Distance traveled = 263.96\n",
        "0.198073933127\n",
        "Initial velocity = 50.50\n",
        "Initial theta = -0.13\n"
       ]
      }
     ],
     "prompt_number": 5
    },
    {
     "cell_type": "code",
     "collapsed": false,
     "input": [
      "# get the glider's position with respect to the time\n",
      "x = u[:,2]\n",
      "y = u[:,3]\n",
      "print x\n",
      "print y\n"
     ],
     "language": "python",
     "metadata": {},
     "outputs": [
      {
       "output_type": "stream",
       "stream": "stdout",
       "text": [
        "[  0.00000000e+00   6.12323400e-16  -1.05242159e+00  -3.05819125e+00\n",
        "  -5.91780709e+00  -9.53324680e+00  -1.38094025e+01  -1.86551142e+01\n",
        "  -2.39838696e+01  -2.97142314e+01  -3.57700471e+01  -4.20804898e+01\n",
        "  -4.85799700e+01  -5.52079539e+01  -6.19087171e+01  -6.86310566e+01\n",
        "  -7.53279817e+01  -8.19563975e+01  -8.84767940e+01  -9.48529497e+01\n",
        "  -1.01051656e+02  -1.07042466e+02  -1.12797475e+02  -1.18291127e+02\n",
        "  -1.23500054e+02  -1.28402943e+02  -1.32980434e+02  -1.37215042e+02\n",
        "  -1.41091099e+02  -1.44594728e+02  -1.47713818e+02  -1.50438030e+02\n",
        "  -1.52758802e+02  -1.54669365e+02  -1.56164765e+02  -1.57241884e+02\n",
        "  -1.57899456e+02  -1.58138086e+02  -1.57960249e+02]\n",
        "[  2.          12.          21.62686703  30.79252848  39.42639542\n",
        "  47.47345147  54.8923709   61.65372019  67.73827981  73.13550843\n",
        "  77.84216144  81.86106676  85.20005547  87.87104007  89.88923077\n",
        "  91.27247808  92.04072951  92.21558732  91.81995493  90.87775954\n",
        "  89.41373938  87.45328468  85.02232221  82.14723422  78.85480344\n",
        "  75.1721766   71.1268401   66.74660198  62.05957534  57.09415924\n",
        "  51.87901354  46.44302525  40.81526435  35.02492766  29.10127022\n",
        "  23.07352376  16.97080279  10.82199895   4.65566492]\n"
       ]
      }
     ],
     "prompt_number": 6
    },
    {
     "cell_type": "code",
     "collapsed": false,
     "input": [
      "# visualization of the path\n",
      "pyplot.figure(figsize=(8,6))\n",
      "pyplot.grid(True)\n",
      "pyplot.xlabel(r'x', fontsize=18)\n",
      "pyplot.ylabel(r'y', fontsize=18)\n",
      "pyplot.title('Glider trajectory, flight time = %.2f' % T, fontsize=18)\n",
      "pyplot.plot(xx,yy, 'k-', lw=2);"
     ],
     "language": "python",
     "metadata": {},
     "outputs": [
      {
       "metadata": {},
       "output_type": "display_data",
       "png": "[encoded data removed]",
       "text": [
        "<matplotlib.figure.Figure at 0x5306b70>"
       ]
      }
     ],
     "prompt_number": 7
    },
    {
     "cell_type": "code",
     "collapsed": false,
     "input": [
      "idx_negative_euler = numpy.where(y<0.0)[0]\n",
      "if len(idx_negative_euler)==0:\n",
      "    idx_ground_euler = N-1\n",
      "    print ('Euler integration has not touched ground yet!')\n",
      "else:\n",
      "    idx_ground_euler = idx_negative_euler[0]\n",
      "print idx_ground_euler\n",
      "x00=x[idx_ground_euler]\n",
      "print x00\n",
      "aa=x[:idx_ground_euler]"
     ],
     "language": "python",
     "metadata": {},
     "outputs": [
      {
       "output_type": "stream",
       "stream": "stdout",
       "text": [
        "Euler integration has not touched ground yet!\n",
        "1000000\n"
       ]
      },
      {
       "ename": "IndexError",
       "evalue": "index 1000000 is out of bounds for axis 0 with size 39",
       "output_type": "pyerr",
       "traceback": [
        "\u001b[1;31m---------------------------------------------------------------------------\u001b[0m\n\u001b[1;31mIndexError\u001b[0m                                Traceback (most recent call last)",
        "\u001b[1;32m<ipython-input-8-aa59eee4a827>\u001b[0m in \u001b[0;36m<module>\u001b[1;34m()\u001b[0m\n\u001b[0;32m      6\u001b[0m     \u001b[0midx_ground_euler\u001b[0m \u001b[1;33m=\u001b[0m \u001b[0midx_negative_euler\u001b[0m\u001b[1;33m[\u001b[0m\u001b[1;36m0\u001b[0m\u001b[1;33m]\u001b[0m\u001b[1;33m\u001b[0m\u001b[0m\n\u001b[0;32m      7\u001b[0m \u001b[1;32mprint\u001b[0m \u001b[0midx_ground_euler\u001b[0m\u001b[1;33m\u001b[0m\u001b[0m\n\u001b[1;32m----> 8\u001b[1;33m \u001b[0mx00\u001b[0m\u001b[1;33m=\u001b[0m\u001b[0mx\u001b[0m\u001b[1;33m[\u001b[0m\u001b[0midx_ground_euler\u001b[0m\u001b[1;33m]\u001b[0m\u001b[1;33m\u001b[0m\u001b[0m\n\u001b[0m\u001b[0;32m      9\u001b[0m \u001b[1;32mprint\u001b[0m \u001b[0mx00\u001b[0m\u001b[1;33m\u001b[0m\u001b[0m\n\u001b[0;32m     10\u001b[0m \u001b[0maa\u001b[0m\u001b[1;33m=\u001b[0m\u001b[0mx\u001b[0m\u001b[1;33m[\u001b[0m\u001b[1;33m:\u001b[0m\u001b[0midx_ground_euler\u001b[0m\u001b[1;33m]\u001b[0m\u001b[1;33m\u001b[0m\u001b[0m\n",
        "\u001b[1;31mIndexError\u001b[0m: index 1000000 is out of bounds for axis 0 with size 39"
       ]
      }
     ],
     "prompt_number": 8
    },
    {
     "cell_type": "code",
     "collapsed": false,
     "input": [
      "# visualization of the path\n",
      "pyplot.figure(figsize=(8,6))\n",
      "pyplot.grid(True)\n",
      "pyplot.xlabel(r'x', fontsize=18)\n",
      "pyplot.ylabel(r'y', fontsize=18)\n",
      "pyplot.title('distance traveled: = %.2f m' % x00, fontsize=18)\n",
      "pyplot.plot(x[:idx_ground_euler],y[:idx_ground_euler], 'k-', lw=2);"
     ],
     "language": "python",
     "metadata": {},
     "outputs": []
    }
   ],
   "metadata": {}
  }
 ]
}