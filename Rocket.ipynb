{
 "metadata": {
  "name": "",
  "signature": "sha256:3314a372abcb1df4b9948bff7d4ef8cadb3d6a8a8dae33377a36d808634becf0"
 },
 "nbformat": 3,
 "nbformat_minor": 0,
 "worksheets": [
  {
   "cells": [
    {
     "cell_type": "code",
     "collapsed": false,
     "input": [
      "from math import sin, cos, log, ceil\n",
      "import numpy\n",
      "from matplotlib import pyplot\n",
      "%matplotlib inline\n",
      "from matplotlib import rcParams"
     ],
     "language": "python",
     "metadata": {},
     "outputs": [],
     "prompt_number": 88
    },
    {
     "cell_type": "code",
     "collapsed": false,
     "input": [
      "# model parameters:\n",
      "g = 9.81      # gravity in m s^{-2}\n",
      "ve = 325.0   # the exhaust speed in m s^{-1}   \n",
      "C_D = 0.15  # drag coefficient --- or D/L if C_L=1\n",
      "mp0 = 100.0    # kg at time t=0 is the initial weight of the rocket propellant\n",
      "time = 5       # work time of engine in s\n",
      "ms = 50.0      # weight of the rocket shell in kg\n",
      "r = 0.5      # radius of cross sectional area of the rocket, in m\n",
      "A = numpy.pi*r**2 # maximum cross sectional area of the rocket in m^2\n",
      "pho = 1.091  #  average air density in kg m^{-3}\n",
      "mpr = 20     #  the time-varying burn rate in kg s^{-1}\n",
      "\n",
      "### set initial conditions ###\n",
      "h0 = 0.0    # the altitude of the rocket\n",
      "v0 = 0.0    # initial velocity of rocket\n",
      "mp = mp0    # weight of the rocket propellant"
     ],
     "language": "python",
     "metadata": {},
     "outputs": [],
     "prompt_number": 89
    },
    {
     "cell_type": "code",
     "collapsed": false,
     "input": [
      "def f(u):\n",
      "    \"\"\"Returns the right-hand side of the rocket system of equations.\n",
      "    \n",
      "    Parameters\n",
      "    ----------\n",
      "    u : array of float\n",
      "        array containing the solution at time n.\n",
      "        \n",
      "    Returns\n",
      "    -------\n",
      "    dudt : array of float\n",
      "        array containing the RHS given u.\n",
      "    \"\"\"\n",
      "    \n",
      "    h = u[0]\n",
      "    v = u[1]\n",
      "    return numpy.array([v,(-g+mpr*ve/(ms+mp)-0.5*pho*v*numpy.abs(v)*A*C_D)/(ms+mp)])"
     ],
     "language": "python",
     "metadata": {},
     "outputs": [],
     "prompt_number": 90
    },
    {
     "cell_type": "code",
     "collapsed": false,
     "input": [
      "def euler_step(u, f, dt):\n",
      "    \"\"\"Returns the solution at the next time-step using Euler's method.\n",
      "    \n",
      "    Parameters\n",
      "    ----------\n",
      "    u : array of float\n",
      "        solution at the previous time-step.\n",
      "    f : function\n",
      "        function to compute the right hand-side of the system of equation.\n",
      "    dt : float\n",
      "        time-increment.\n",
      "    \n",
      "    Returns\n",
      "    -------\n",
      "    u_n_plus_1 : array of float\n",
      "        approximate solution at the next time step.\n",
      "    \"\"\"\n",
      "    return u + dt * f(u)"
     ],
     "language": "python",
     "metadata": {},
     "outputs": [],
     "prompt_number": 91
    },
    {
     "cell_type": "code",
     "collapsed": false,
     "input": [
      "T = 100                          # final time\n",
      "dt = 0.1                           # time increment\n",
      "N = int(T/dt) + 1                  # number of time-steps\n",
      "t = numpy.linspace(0.0, T, N)      # time discretization\n",
      "CurT =0\n",
      "endtime=0\n",
      "\n",
      "# initialize the array containing the solution for each time-step\n",
      "u = numpy.empty((N, 2))\n",
      "ta=numpy.empty(N)\n",
      "u[0] = numpy.array([h0, v0])# fill 1st element with initial values\n",
      "ta[0]=0.0\n",
      "# time loop - Euler method\n",
      "for n in range(N-1):\n",
      "    CurT+=dt\n",
      "    if CurT<time:\n",
      "        mp=mp0-mpr*(CurT)\n",
      "        endtime=CurT+dt\n",
      "    else:\n",
      "        mp=0\n",
      "        mpr=0\n",
      "    #print mp\n",
      "    u[n+1] = euler_step(u[n], f, dt)\n",
      "    ta[n+1]=CurT\n",
      "    #xx[n+1]=(-0.5*pho*v[n]*numpy.abs(v[n])*A*C_D))\n",
      "    #print -g\n",
      "    #print -0.5*pho*v[n]*numpy.abs(v[n])*A*C_D\n",
      "    #print mpr*ve/(ms+mp)\n",
      "    #print n\n",
      "    #print (-g+mpr*ve/(ms+mp)-0.5*pho*v[n]*numpy.abs(v[n])*A*C_D)\n",
      "idx_negative = numpy.where(ta==endtime)[0]\n",
      "#print endtime\n",
      "#print idx_negative\n",
      "h = u[:,0]\n",
      "v = u[:,1]\n",
      "tt = ta\n",
      "idx_negative=idx_negative\n",
      "#print h[idx_negative]\n",
      "#print v[idx_negative]\n",
      "#print tt[idx_negative]\n",
      "idx_impact = numpy.where(h<=0)[0]\n",
      "k=0\n",
      "for i in h:\n",
      "    k+=1\n",
      "    if h[i]<0:\n",
      "        break\n",
      "#print k-1\n",
      "#print t[k-1]\n",
      "#print v[:53]\n",
      "print h[:53]"
     ],
     "language": "python",
     "metadata": {},
     "outputs": [
      {
       "output_type": "stream",
       "stream": "stdout",
       "text": [
        "[  0.00000000e+00   0.00000000e+00   2.30465668e-03   6.98674582e-03\n",
        "   1.41222202e-02   2.37903933e-02   3.60741357e-02   5.10600867e-02\n",
        "   6.88388815e-02   8.95053950e-02   1.13159005e-01   1.39903878e-01\n",
        "   1.69849270e-01   2.03109863e-01   2.39806122e-01   2.80064678e-01\n",
        "   3.24018756e-01   3.71808624e-01   4.23582096e-01   4.79495069e-01\n",
        "   5.39712116e-01   6.04407127e-01   6.73764017e-01   7.47977496e-01\n",
        "   8.27253917e-01   9.11812211e-01   1.00188491e+00   1.09771928e+00\n",
        "   1.19957858e+00   1.30774344e+00   1.42251341e+00   1.54420866e+00\n",
        "   1.67317192e+00   1.80977058e+00   1.95439914e+00   2.10748182e+00\n",
        "   2.26947568e+00   2.44087398e+00   2.62221012e+00   2.81406200e+00\n",
        "   3.01705711e+00   3.23187827e+00   3.45927026e+00   3.70004748e+00\n",
        "   3.95510282e+00   4.22541794e+00   4.51207535e+00   4.81627256e+00\n",
        "   5.13933884e+00   5.48275505e+00   5.84817743e+00   6.23746618e+00\n",
        "   6.62459815e+00]\n"
       ]
      }
     ],
     "prompt_number": 92
    },
    {
     "cell_type": "code",
     "collapsed": false,
     "input": [
      "# visualization of the path\n",
      "pyplot.figure(figsize=(8,6))\n",
      "pyplot.subplot(121)\n",
      "pyplot.grid(True)\n",
      "pyplot.xlabel(r'x', fontsize=18)\n",
      "pyplot.ylabel(r'y', fontsize=18)\n",
      "pyplot.title('Glider trajectory, flight time = %.2f' % T, fontsize=18)\n",
      "pyplot.plot(t,v, 'b-', lw=1);\n",
      "#pyplot.xlim(45,50)\n",
      "#pyplot.ylim(1.8,2.5);\n",
      "\n",
      "pyplot.figure(figsize=(8,6))\n",
      "pyplot.subplot(122)\n",
      "pyplot.grid(True)\n",
      "pyplot.xlabel(r'x', fontsize=18)\n",
      "pyplot.ylabel(r'y', fontsize=18)\n",
      "pyplot.title('Glider trajectory, flight time = %.2f' % T, fontsize=18)\n",
      "pyplot.plot(t,h, 'b-', lw=1);"
     ],
     "language": "python",
     "metadata": {},
     "outputs": [
      {
       "metadata": {},
       "output_type": "display_data",
       "png": "[encoded data removed]",
       "text": [
        "<matplotlib.figure.Figure at 0xc957c18>"
       ]
      },
      {
       "metadata": {},
       "output_type": "display_data",
       "png": "[encoded data removed]",
       "text": [
        "<matplotlib.figure.Figure at 0xc00a9b0>"
       ]
      }
     ],
     "prompt_number": 93
    },
    {
     "cell_type": "code",
     "collapsed": false,
     "input": [],
     "language": "python",
     "metadata": {},
     "outputs": [],
     "prompt_number": 93
    }
   ],
   "metadata": {}
  }
 ]
}